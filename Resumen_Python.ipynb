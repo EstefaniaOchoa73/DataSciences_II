{
 "cells": [
  {
   "cell_type": "code",
   "execution_count": null,
   "id": "910d9f96",
   "metadata": {},
   "outputs": [],
   "source": [
    "# LECTURA DE DATASETS\n",
    "df = pd.read_csv('NombreDelDataSet.csv')\n",
    "\n",
    "# INFORMACIÓN GENERAL Y ESTRUCTURA DE UN DATASET\n",
    "pd.info() # Imprime información del DataFrame\n",
    "pd.head() # Retorna las primeras n filas. Por defecto son las primeras 5.\n",
    "pd.tail() # Retorna las ultimas n filas. Por defecto son las ultimas 5."
   ]
  },
  {
   "cell_type": "code",
   "execution_count": null,
   "id": "615facfe",
   "metadata": {},
   "outputs": [],
   "source": [
    "# CONCATENAR DATAFRAMES\n",
    "df = pd.concat([\"DataFrame 1\",\"DataFrame 2\"],ignore_index=True)"
   ]
  },
  {
   "cell_type": "code",
   "execution_count": null,
   "id": "1c3d22dd",
   "metadata": {},
   "outputs": [],
   "source": [
    "# VER NOMBRE DE COLUMNAS\n",
    "df.columns\n",
    "# VER FILAS Y COLUMNAS\n",
    "df.shape\n",
    "# VER LOS DATOS DE DATAFRAME\n",
    "print(df.dtypes)"
   ]
  }
 ],
 "metadata": {
  "language_info": {
   "name": "python"
  }
 },
 "nbformat": 4,
 "nbformat_minor": 5
}
