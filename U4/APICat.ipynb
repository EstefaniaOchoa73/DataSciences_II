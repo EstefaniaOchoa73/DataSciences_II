{
 "cells": [
  {
   "cell_type": "code",
   "execution_count": 9,
   "id": "c2633541",
   "metadata": {},
   "outputs": [],
   "source": [
    "# Importar librerías\n",
    "\n",
    "import pandas as pd\n",
    "import requests"
   ]
  },
  {
   "cell_type": "code",
   "execution_count": null,
   "id": "2f0c2150",
   "metadata": {},
   "outputs": [
    {
     "name": "stdout",
     "output_type": "stream",
     "text": [
      "Imagen de Gatito 1: https://cdn2.thecatapi.com/images/nb.jpg\n",
      "Imagen de Gatito 2: https://cdn2.thecatapi.com/images/10b.jpg\n",
      "Imagen de Gatito 3: https://cdn2.thecatapi.com/images/41u.jpg\n",
      "Imagen de Gatito 4: https://cdn2.thecatapi.com/images/4l0.gif\n",
      "Imagen de Gatito 5: https://cdn2.thecatapi.com/images/73n.jpg\n",
      "Imagen de Gatito 6: https://cdn2.thecatapi.com/images/a1t.jpg\n",
      "Imagen de Gatito 7: https://cdn2.thecatapi.com/images/d46.jpg\n",
      "Imagen de Gatito 8: https://cdn2.thecatapi.com/images/MTk0NjAxOQ.jpg\n",
      "Imagen de Gatito 9: https://cdn2.thecatapi.com/images/MjA2NjAyOA.jpg\n",
      "Imagen de Gatito 10: https://cdn2.thecatapi.com/images/O3F3_S1XN.jpg\n"
     ]
    }
   ],
   "source": [
    "# PASO 1: Obtengo la URL de la API\n",
    "url = 'https://api.thecatapi.com/v1/images/search?limit=3'\n",
    "\n",
    "# PASO 2: Hago una solicitud GET.\n",
    "response = requests.get(url)\n",
    "\n",
    "# PASO 3: Verificar que la solicitud sea exitosa.\n",
    "if response.status_code == 200:\n",
    "    data = response.json()\n",
    "# Solo traigo un elemento del JSON.\n",
    "#    image_url = data[0]['url']\n",
    "#    print(\"Imagen de Gatito:\",image_url)\n",
    "\n",
    "# Para traer mas de uno:\n",
    "# Es necesario especificar en la URL el limite de elementos que queremos traer.\n",
    "    for i, image in enumerate(data,1):\n",
    "        print(f\"Imagen de Gatito {i}: {image['url']}\")\n",
    "else:\n",
    "    print(\"Error al obtener datos de la API: \",response.status_code)"
   ]
  }
 ],
 "metadata": {
  "kernelspec": {
   "display_name": "Python 3",
   "language": "python",
   "name": "python3"
  },
  "language_info": {
   "codemirror_mode": {
    "name": "ipython",
    "version": 3
   },
   "file_extension": ".py",
   "mimetype": "text/x-python",
   "name": "python",
   "nbconvert_exporter": "python",
   "pygments_lexer": "ipython3",
   "version": "3.13.3"
  }
 },
 "nbformat": 4,
 "nbformat_minor": 5
}
